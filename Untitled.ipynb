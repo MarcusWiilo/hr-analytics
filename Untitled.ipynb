{
 "cells": [
  {
   "cell_type": "code",
   "execution_count": 1,
   "metadata": {},
   "outputs": [],
   "source": [
    "ibm <- read.csv(\"WA_Fn-UseC_-HR-Employee-Attrition.csv\")"
   ]
  },
  {
   "cell_type": "code",
   "execution_count": 8,
   "metadata": {},
   "outputs": [],
   "source": [
    "suppressMessages(library(ggplot2))\n",
    "suppressMessages(library(ggplot2))"
   ]
  },
  {
   "cell_type": "code",
   "execution_count": null,
   "metadata": {},
   "outputs": [],
   "source": []
  },
  {
   "cell_type": "code",
   "execution_count": 9,
   "metadata": {},
   "outputs": [
    {
     "ename": "ERROR",
     "evalue": "Error in 1 <- ggplot(ibm, aes(x = MonthlyIncome, fill = Attrition)) + : lado esquerdo da atribuição inválida (do_set)\n",
     "output_type": "error",
     "traceback": [
      "Error in 1 <- ggplot(ibm, aes(x = MonthlyIncome, fill = Attrition)) + : lado esquerdo da atribuição inválida (do_set)\nTraceback:\n"
     ]
    }
   ],
   "source": [
    "1 <- ggplot(ibm, \n",
    "             aes(x = MonthlyIncome, fill = Attrition)) + \n",
    "  geom_density(alpha = 0.7) + \n",
    "  scale_fill_manual(values = c(\"#386cb0\",\"#fdb462\"))\n",
    "\n",
    "g2 <- ggplot(ibm, \n",
    "             aes(x = HourlyRate, fill = Attrition)) + \n",
    "  geom_density(alpha = 0.7) + \n",
    "  scale_fill_manual(values = c(\"#386cb0\",\"#fdb462\"))\n",
    "\n",
    "g3 <- ggplot(ibm, \n",
    "             aes(x = DailyRate, fill = Attrition)) + \n",
    "  geom_density(alpha = 0.7) + \n",
    "  scale_fill_manual(values = c(\"#386cb0\",\"#fdb462\"))\n",
    "\n",
    "g4 <- ggplot(ibm, \n",
    "             aes(x = MonthlyRate, fill = Attrition)) + \n",
    "  geom_density(alpha = 0.7) + \n",
    "  scale_fill_manual(values = c(\"#386cb0\",\"#fdb462\"))\n",
    "\n",
    "grid.arrange(g1, g2, g3, g4, ncol = 2, nrow = 2)"
   ]
  },
  {
   "cell_type": "code",
   "execution_count": 10,
   "metadata": {},
   "outputs": [
    {
     "ename": "ERROR",
     "evalue": "Error in grid.arrange(g1, g2, g3, g4, ncol = 2, nrow = 2): não foi possível encontrar a função \"grid.arrange\"\n",
     "output_type": "error",
     "traceback": [
      "Error in grid.arrange(g1, g2, g3, g4, ncol = 2, nrow = 2): não foi possível encontrar a função \"grid.arrange\"\nTraceback:\n"
     ]
    }
   ],
   "source": [
    "grid.arrange(g1, g2, g3, g4, ncol = 2, nrow = 2)"
   ]
  },
  {
   "cell_type": "code",
   "execution_count": null,
   "metadata": {},
   "outputs": [],
   "source": []
  }
 ],
 "metadata": {
  "kernelspec": {
   "display_name": "R",
   "language": "R",
   "name": "ir"
  },
  "language_info": {
   "codemirror_mode": "r",
   "file_extension": ".r",
   "mimetype": "text/x-r-source",
   "name": "R",
   "pygments_lexer": "r",
   "version": "3.4.3"
  }
 },
 "nbformat": 4,
 "nbformat_minor": 2
}
