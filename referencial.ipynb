{
 "cells": [
  {
   "cell_type": "markdown",
   "metadata": {},
   "source": [
    "## Referencias"
   ]
  },
  {
   "cell_type": "markdown",
   "metadata": {},
   "source": [
    "https://www.kaggle.com/aljaz91/ibm-s-attrition-tackling-class-imbalance-with-gbm/notebook\n",
    "    \n",
    "http://inseaddataanalytics.github.io/INSEADAnalytics/groupprojects/January2018FBL/IBM_Attrition_VSS.html#business_problem\n",
    "\n",
    "https://rpubs.com/bpr1989/HRAnalysis\n",
    "\n",
    "https://rpubs.com/TejaJay/ibmhratt\n",
    "\n",
    "https://www.kaggle.com/carmelgafa/ibm-hr-dataset-analysis-and-prediction\n",
    "\n",
    "https://www.kaggle.com/arthurtok/employee-attrition-via-rf-gbm\n",
    "\n",
    "https://www.kaggle.com/slamnz/primer-employee-attrition/notebook\n",
    "\n",
    "https://www.kaggle.com/sambitd/employee-attrition-modelling\n",
    "\n",
    "https://www.kaggle.com/devendray/ibm-hr-data-visualization\n",
    "\n",
    "https://www.kaggle.com/dredlaw/predict-employment-termination\n",
    "\n",
    "https://www.kaggle.com/rhuebner/human-resources-data-set\n",
    "\n",
    "https://www.kaggle.com/jaishofficial/human-resources-analytics\n",
    "\n",
    "https://www.kaggle.com/colara/human-resource\n",
    "\n",
    "https://www.kaggle.com/ruoxinzhou/analysis-about-human-resources-data/data\n",
    "\n",
    "https://www.kaggle.com/colara/human-resources-analytics-a-descriptive-analysis/notebook\n",
    "\n",
    "https://www.kaggle.com/rohandx1996/human-resource-analytics\n",
    "\n",
    "https://www.kaggle.com/c/sm#evaluation\n",
    "\n",
    "https://www.kaggle.com/qmeeus/data-driven-consulting-for-human-resources/notebook\n",
    "\n",
    "http://www.business-science.io/presentations/2017/11/06/earl-boston-2017.html\n",
    "\n",
    "http://www.business-science.io/business/2017/09/18/hr_employee_attrition.html\n",
    "\n",
    "https://www.forbes.com/sites/bernardmarr/2016/03/01/the-8-hr-analytics-every-manager-should-know-about/#27e24534788f\n",
    "\n",
    "https://rpubs.com/FelixZhao/hra\n",
    "\n",
    "https://www.analyticsinhr.com/blog/tutorial-people-analytics-r-employee-churn/\n",
    "\n",
    "https://www.hranalyticsacademy.com/hr-analytics-lead-course/\n",
    "\n",
    "https://h2oworld2017.sched.com/event/D411/hr-analytics-using-machine-learning-to-predict-employee-turnover-matt-dancho-business-science\n",
    "\n",
    "https://campus.datacamp.com/courses/human-resources-analytics-in-r-exploring-employee-data/identifying-the-best-recruiting-source?ex=1\n",
    "\n",
    "https://www.h2o.ai/download/\n",
    "\n",
    "https://analyticstraining.com/use-hr-analytics/\n",
    "\n",
    "https://www.rdocumentation.org/packages/h2o/versions/3.20.0.2\n",
    "\n",
    "https://www.rdocumentation.org/packages/lime/versions/0.4.0\n",
    "\n",
    "http://h2o-release.s3.amazonaws.com/h2o/rel-lambert/5/docs-website/Ruser/Rinstall.html\n",
    "\n",
    "https://www.analyticsinhr.com/\n",
    "\n",
    "https://www.analyticsinhr.com/blog/what-is-hr-analytics/\n",
    "\n",
    "\n"
   ]
  },
  {
   "cell_type": "code",
   "execution_count": null,
   "metadata": {},
   "outputs": [],
   "source": []
  }
 ],
 "metadata": {
  "kernelspec": {
   "display_name": "Python 3",
   "language": "python",
   "name": "python3"
  },
  "language_info": {
   "codemirror_mode": {
    "name": "ipython",
    "version": 3
   },
   "file_extension": ".py",
   "mimetype": "text/x-python",
   "name": "python",
   "nbconvert_exporter": "python",
   "pygments_lexer": "ipython3",
   "version": "3.5.5"
  }
 },
 "nbformat": 4,
 "nbformat_minor": 2
}
